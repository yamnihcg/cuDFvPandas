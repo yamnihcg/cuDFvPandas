{
 "cells": [
  {
   "cell_type": "markdown",
   "metadata": {},
   "source": [
    "# A Benchmarking Tool for cuDF vs. Pandas Performance "
   ]
  },
  {
   "cell_type": "markdown",
   "metadata": {},
   "source": [
    "### Context and Introduction "
   ]
  },
  {
   "cell_type": "markdown",
   "metadata": {},
   "source": [
    "What do self-driving cars, recommender systems, and spam filters have in common? The answer is that they are all powered by Artificial Intelligence. In recent years, data scientists and engineers have been tasked with “cleaning up” large datasets so that they can feed this data into Artificial Intelligence models. One of the most popular technologies to “clean up” datasets today is pandas, a CPU based DataFrame library. However, one huge drawback of pandas is that it has poor performance on large datasets. \n",
    "\n",
    "In response to this clear need, NVIDIA released cuDF, a GPU-based DataFrame library. Since cuDF and pandas have identical syntax (refer to graphic below), it is very easy for data scientists and engineers to adapt to this new library. In order to demonstrate cuDF’s computational advantage, we have developed a tool that automatically benchmarks the time(s) that cuDF and pandas take for common DataFrame operations. The data we are using for this tool is from the New York City taxi dataset, divided month by month  This is done in 2 formats, a Command Line Interface (CLI) and a Jupyter Notebook. \n"
   ]
  },
  {
   "cell_type": "markdown",
   "metadata": {},
   "source": [
    "### Prerequisites "
   ]
  },
  {
   "cell_type": "markdown",
   "metadata": {},
   "source": [
    "To proceed to the next steps, these instructions that you have the following already installed:\n",
    "\n",
    "##### GPU: NVIDIA Pascal™ or better with compute capability 6.0+\n",
    "##### CUDA version 10.0+ (with NVIDIA drivers)\n",
    "##### OS: Ubuntu 16.04/18.04 \n",
    "##### Docker CE v19.03+ and nvidia-container-toolkit (if using docker container)\n"
   ]
  },
  {
   "cell_type": "markdown",
   "metadata": {},
   "source": [
    "## Set up RAPIDS Docker Container "
   ]
  },
  {
   "cell_type": "markdown",
   "metadata": {},
   "source": [
    "In order to set up the docker container, **follow the instructions in the README (on the home page)** in this repository"
   ]
  },
  {
   "cell_type": "markdown",
   "metadata": {},
   "source": [
    "# Library Imports"
   ]
  },
  {
   "cell_type": "code",
   "execution_count": 25,
   "metadata": {},
   "outputs": [],
   "source": [
    "import cudf\n",
    "import pandas as pd \n",
    "import numpy as np\n",
    "import re \n",
    "import matplotlib.pyplot as plt\n",
    "import seaborn as sns\n",
    "import gcsfs\n",
    "\n",
    "graph_data = []\n",
    "cudf_barplot_data = []"
   ]
  },
  {
   "cell_type": "markdown",
   "metadata": {},
   "source": [
    "# Functions For Each Benchmarking Operation\n",
    "#### Note: The cells need to be run so that the benchmarking tool runs without issues in the later cells."
   ]
  },
  {
   "cell_type": "markdown",
   "metadata": {},
   "source": [
    "## Applying a numerical function on a column (af)\n",
    "##### Note: Here, we are converting the trip distance (in miles) to the trip distance in kilometers."
   ]
  },
  {
   "cell_type": "code",
   "execution_count": 26,
   "metadata": {},
   "outputs": [],
   "source": [
    "def apply_numerical_function(nyc_taxi_data, nyc_cudf_taxi_data):\n",
    "    print(\"Pandas: Applying a numerical function (converting mi to km):\")\n",
    "    func_copy_nyc_taxi_data = nyc_taxi_data\n",
    "    load_df_timer_func = Timer()\n",
    "    load_df_timer_func.start()\n",
    "    func_copy_nyc_taxi_data['trip_distance'] = func_copy_nyc_taxi_data['trip_distance'].apply(lambda x: 1.60934 * x)\n",
    "    load_df_timer_func.stop()\n",
    "\n",
    "    df_time = load_df_timer_func.total_time\n",
    "    graph_data.append([\"af\", round(df_time, 3), \"pandas\"])\n",
    "\n",
    "    print(\"CuDF: Applying a numerical function (converting mi to km):\")\n",
    "    func_copy_nyc_taxi_data_cudf = nyc_cudf_taxi_data\n",
    "    load_cudf_timer_func = Timer()\n",
    "    load_cudf_timer_func.start()\n",
    "    func_copy_nyc_taxi_data_cudf['trip_distance'] = func_copy_nyc_taxi_data_cudf['trip_distance'].applymap(lambda x: 1.60934 * x)\n",
    "    load_cudf_timer_func.stop()\n",
    "\n",
    "    cudf_time = load_cudf_timer_func.total_time\n",
    "    graph_data.append([\"af\", round(cudf_time, 3), \"cuDF\"])\n",
    "\n",
    "    speedup = round(float(df_time) / float(cudf_time), 3)\n",
    "    cudf_barplot_data.append([\"af\", speedup])\n",
    "    print(\"Speedup: \" + str(speedup) + \"X\")"
   ]
  },
  {
   "cell_type": "markdown",
   "metadata": {},
   "source": [
    "## Applying aggregate function on a column (aggfunc)\n",
    "#### These include .sum(), .min(), .max() .... "
   ]
  },
  {
   "cell_type": "code",
   "execution_count": 27,
   "metadata": {},
   "outputs": [],
   "source": [
    "def apply_aggregate_function(nyc_taxi_data, nyc_cudf_taxi_data):\n",
    "        \n",
    "    print(\"Pandas: Applying an aggregate function:\")\n",
    "    func_copy_nyc_taxi_data = nyc_taxi_data\n",
    "    load_df_timer_afunc = Timer()\n",
    "    load_df_timer_afunc.start()\n",
    "    func_copy_nyc_taxi_data['fare_amount'].sum()\n",
    "    load_df_timer_afunc.stop()\n",
    "\n",
    "    df_time = load_df_timer_afunc.total_time\n",
    "    graph_data.append([\"aggfunc\", round(df_time, 3), \"pandas\"])\n",
    "\n",
    "    print(\"CuDF: Applying an aggregate function:\")\n",
    "    func_copy_nyc_taxi_data_cudf = nyc_cudf_taxi_data\n",
    "    load_cudf_timer_afunc = Timer()\n",
    "    load_cudf_timer_afunc.start()\n",
    "    func_copy_nyc_taxi_data_cudf['fare_amount'].sum()\n",
    "    load_cudf_timer_afunc.stop()\n",
    "\n",
    "    cudf_time = load_cudf_timer_afunc.total_time\n",
    "    graph_data.append([\"aggfunc\", round(cudf_time, 3), \"cuDF\"])\n",
    "\n",
    "    speedup = round(float(df_time) / float(cudf_time), 3)\n",
    "    cudf_barplot_data.append([\"aggfunc\", speedup])\n",
    "    print(\"Speedup (cuDF): \" + str(speedup) + \"X\")"
   ]
  },
  {
   "cell_type": "markdown",
   "metadata": {},
   "source": [
    "## GroupBy + Aggregation (gb)"
   ]
  },
  {
   "cell_type": "code",
   "execution_count": 28,
   "metadata": {},
   "outputs": [],
   "source": [
    "def groupby(nyc_taxi_data, nyc_cudf_taxi_data):\n",
    "\n",
    "    print(\"Pandas: GroupBy:\")\n",
    "    df_groupby_timer = Timer()\n",
    "    df_groupby_timer.start()\n",
    "    nyc_taxi_data.groupby(['payment_type']).size()\n",
    "    df_groupby_timer.stop()\n",
    "\n",
    "    df_time = df_groupby_timer.total_time\n",
    "    graph_data.append([\"gb\", round(df_time, 3), \"pandas\"])\n",
    "\n",
    "    print(\"CuDF: GroupBy: \")\n",
    "    cudf_groupby_timer = Timer()\n",
    "    cudf_groupby_timer.start()\n",
    "    nyc_cudf_taxi_data.groupby(['payment_type']).size()\n",
    "    cudf_groupby_timer.stop()\n",
    "\n",
    "    cudf_time = cudf_groupby_timer.total_time\n",
    "    graph_data.append([\"gb\", round(cudf_time, 3), \"cuDF\"])\n",
    "\n",
    "    speedup = round(float(df_time) / float(cudf_time), 3)\n",
    "    cudf_barplot_data.append([\"gb\", speedup])\n",
    "    print(\"Speedup: \" + str(speedup) + \"X\")"
   ]
  },
  {
   "cell_type": "markdown",
   "metadata": {},
   "source": [
    "## Sorting Values - Getting top 5 entries in a column (gt5)"
   ]
  },
  {
   "cell_type": "code",
   "execution_count": 29,
   "metadata": {},
   "outputs": [],
   "source": [
    "def get_top_5(nyc_taxi_data, nyc_cudf_taxi_data):\n",
    "\n",
    "    print(\"Get Top 5 Longest Trip Distances (Sorting values) w/ Pandas\")\n",
    "\n",
    "    df_topk_timer = Timer()\n",
    "    df_topk_timer.start()\n",
    "    t5_longest_taxi_distances = nyc_taxi_data.sort_values(by='trip_distance', ascending=False)\n",
    "    df_topk_timer.stop()\n",
    "\n",
    "    df_time = df_topk_timer.total_time\n",
    "    graph_data.append([\"gt5\", round(df_time, 3), \"pandas\"])\n",
    "\n",
    "    print(\"Get Top 5 Longest Trip Distances (Sorting Values) w/ cuDF\")\n",
    "\n",
    "    cudf_top_k_timer = Timer()\n",
    "    cudf_top_k_timer.start()\n",
    "    t5_longest_taxi_distances_cudf = nyc_cudf_taxi_data.sort_values(by='trip_distance', ascending=False)\n",
    "    cudf_top_k_timer.stop()\n",
    "\n",
    "    cudf_time = cudf_top_k_timer.total_time\n",
    "    graph_data.append([\"gt5\", round(cudf_time, 3), \"cuDF\"])\n",
    "\n",
    "    speedup = round(float(df_time) / float(cudf_time), 3)\n",
    "    cudf_barplot_data.append([\"gt5\", speedup])\n",
    "    print(\"Speedup: \" + str(speedup) + \"X\")"
   ]
  },
  {
   "cell_type": "markdown",
   "metadata": {},
   "source": [
    "## Dropping Duplicate Rows (dd)"
   ]
  },
  {
   "cell_type": "code",
   "execution_count": 30,
   "metadata": {},
   "outputs": [],
   "source": [
    "def drop_duplicates(nyc_taxi_data, nyc_cudf_taxi_data):\n",
    "\n",
    "    print(\"Dropping Duplicates - Pandas\")\n",
    "    df_duplicatedrop = nyc_taxi_data\n",
    "\n",
    "    dup_drop_df_timer = Timer()\n",
    "    dup_drop_df_timer.start()\n",
    "    df_duplicatedrop = df_duplicatedrop.drop_duplicates()\n",
    "    dup_drop_df_timer.stop()\n",
    "    \n",
    "    df_time = dup_drop_df_timer.total_time\n",
    "    graph_data.append([\"dd\", round(df_time, 3), \"pandas\"])\n",
    "\n",
    "    print(\"Dropping Duplicates - cuDF\")\n",
    "\n",
    "    cudf_duplicatedrop = nyc_cudf_taxi_data\n",
    "\n",
    "    dup_drop_cudf_timer = Timer()\n",
    "    dup_drop_cudf_timer.start()\n",
    "    cudf_duplicatedrop = cudf_duplicatedrop.drop_duplicates()\n",
    "    dup_drop_cudf_timer.stop()\n",
    "    \n",
    "    cudf_time = dup_drop_cudf_timer.total_time\n",
    "    graph_data.append([\"dd\", round(cudf_time, 3), \"cuDF\"])\n",
    "    \n",
    "    speedup = round(float(df_time) / float(cudf_time), 3)\n",
    "    cudf_barplot_data.append([\"dd\", speedup])\n",
    "    print(\"Speedup: \" + str(speedup) + \"X\")"
   ]
  },
  {
   "cell_type": "markdown",
   "metadata": {},
   "source": [
    "## Dropping a Column (dc)"
   ]
  },
  {
   "cell_type": "code",
   "execution_count": 31,
   "metadata": {},
   "outputs": [],
   "source": [
    "def drop_column(nyc_taxi_data, nyc_cudf_taxi_data):\n",
    "    \n",
    "\n",
    "    print(\"Drop a column: Pandas\")\n",
    "    col_drop_df = nyc_taxi_data\n",
    "\n",
    "\n",
    "    col_drop_df_timer = Timer()\n",
    "    col_drop_df_timer.start()\n",
    "    col_drop_df = col_drop_df.drop(['mta_tax'], axis=1)\n",
    "    col_drop_df_timer.stop()\n",
    "\n",
    "    df_time = col_drop_df_timer.total_time\n",
    "    graph_data.append([\"dc\", round(df_time, 3), \"pandas\"])\n",
    "\n",
    "    #Dropping a Column - cuDF \n",
    "\n",
    "    print(\"Drop a column: cuDF\")\n",
    "    col_drop_cudf = nyc_cudf_taxi_data\n",
    "\n",
    "    col_drop_cudf_timer = Timer()\n",
    "    col_drop_cudf_timer.start()\n",
    "    col_drop_cudf = col_drop_cudf.drop(['mta_tax'], axis=1)\n",
    "    col_drop_cudf_timer.stop()\n",
    "\n",
    "    cudf_time = col_drop_cudf_timer.total_time\n",
    "    graph_data.append([\"dc\", round(cudf_time, 3), \"cuDF\"])\n",
    "\n",
    "    speedup = round(float(df_time) / float(cudf_time), 3)\n",
    "    cudf_barplot_data.append([\"dc\", speedup])\n",
    "    print(\"Speedup: \" + str(speedup) + \"X\")"
   ]
  },
  {
   "cell_type": "markdown",
   "metadata": {},
   "source": [
    "## Filter by Column (fc)"
   ]
  },
  {
   "cell_type": "code",
   "execution_count": 32,
   "metadata": {},
   "outputs": [],
   "source": [
    "def filter_by_column(nyc_taxi_data, nyc_cudf_taxi_data):\n",
    "    \n",
    "\n",
    "    print(\"Filter by Column Values - pandas\")\n",
    "    row_filt_df = nyc_taxi_data \n",
    "\n",
    "    row_filt_df_timer = Timer()\n",
    "    row_filt_df_timer.start()\n",
    "    row_filt_df = row_filt_df[row_filt_df['total_amount'] >= 20]\n",
    "    row_filt_df_timer.stop()\n",
    "\n",
    "    df_time = row_filt_df_timer.total_time\n",
    "        \n",
    "    graph_data.append([\"fc\", round(df_time, 3), \"pandas\"]) #add for visualization\n",
    "\n",
    "        #Filtering Rows Based on their individual feature values - cuDF (on NYC Taxi Data)\n",
    "\n",
    "    print(\"Filter by Column Values - cuDF\")\n",
    "    row_filt_cudf = nyc_cudf_taxi_data\n",
    "\n",
    "    row_filt_cudf_timer = Timer()\n",
    "    row_filt_cudf_timer.start()\n",
    "    row_filt_cudf = row_filt_cudf[row_filt_cudf['total_amount'] >= 20]\n",
    "    row_filt_cudf_timer.stop()\n",
    "\n",
    "    cudf_time = row_filt_cudf_timer.total_time\n",
    "    graph_data.append([\"fc\", round(cudf_time, 3), \"cuDF\"])\n",
    "\n",
    "    speedup = round(float(df_time) / float(cudf_time), 3)\n",
    "    cudf_barplot_data.append([\"fc\", speedup])\n",
    "    print(\"Speedup (cuDF): \" + str(speedup) + \"X\")"
   ]
  },
  {
   "cell_type": "markdown",
   "metadata": {},
   "source": [
    "## Rewrite To .csv file (rtc)"
   ]
  },
  {
   "cell_type": "code",
   "execution_count": 33,
   "metadata": {},
   "outputs": [],
   "source": [
    "def rewrite_to_csv(nyc_taxi_data, nyc_cudf_taxi_data):\n",
    "\n",
    "    print(\"Rewriting to .csv - Pandas\")\n",
    "\n",
    "    rewrite_df = nyc_taxi_data\n",
    "    rewrite_df_timer = Timer()\n",
    "    rewrite_df_timer.start()\n",
    "    rewrite_df.to_csv(\"rewritten_nyc_taxi_data_df.csv\")\n",
    "    rewrite_df_timer.stop()\n",
    "    \n",
    "    df_time = rewrite_df_timer.total_time\n",
    "    graph_data.append([\"rtc\", round(df_time, 3), \"pandas\"])\n",
    "\n",
    "    print(\"Rewriting to .csv - cuDF\")\n",
    "\n",
    "    #Rewriting to .csv - cuDF \n",
    "    rewrite_cudf = nyc_cudf_taxi_data\n",
    "    rewrite_cudf_timer = Timer()\n",
    "    rewrite_cudf_timer.start()\n",
    "    rewrite_cudf.to_csv(\"rewritten_nyc_taxi_data_cudf.csv\")\n",
    "    rewrite_cudf_timer.stop()\n",
    "    \n",
    "    cudf_time = rewrite_cudf_timer.total_time\n",
    "    graph_data.append([\"rtc\", round(cudf_time, 3), \"cuDF\"])\n",
    "    \n",
    "    speedup = round(float(df_time) / float(cudf_time), 3)\n",
    "    cudf_barplot_data.append([\"rtc\", speedup])\n",
    "    print(\"Speedup: \" + str(speedup) + \"X\")"
   ]
  },
  {
   "cell_type": "markdown",
   "metadata": {},
   "source": [
    "## Filling in Null Values (fnv)\n",
    "#### Note: All the columns (w/ null values) have to be the same datatype for this to work in cuDF!"
   ]
  },
  {
   "cell_type": "code",
   "execution_count": 34,
   "metadata": {},
   "outputs": [],
   "source": [
    "def fill_null_values(nyc_taxi_data, nyc_cudf_taxi_data):\n",
    "    \n",
    "    print(\"Filling in null values - Pandas\")\n",
    "    \n",
    "    copy_nyc_taxi_data = nyc_taxi_data\n",
    "    fill_null_vals = Timer()\n",
    "    fill_null_vals.start()\n",
    "    copy_nyc_taxi_data = copy_nyc_taxi_data.fillna(0)\n",
    "    fill_null_vals.stop()\n",
    "    \n",
    "    df_time = fill_null_vals.total_time\n",
    "    graph_data.append([\"fnv\", round(df_time, 3), \"pandas\"])\n",
    "    \n",
    "    print(\"Filling in null values - cuDF\")\n",
    "    \n",
    "    copy_nyc_cudf_taxi_data = nyc_cudf_taxi_data\n",
    "    copy_nyc_cudf_taxi_data = copy_nyc_cudf_taxi_data.drop(columns=['store_and_fwd_flag'])\n",
    "    fill_null_vals_cudf = Timer()\n",
    "    fill_null_vals_cudf.start()\n",
    "    copy_nyc_cudf_taxi_data = copy_nyc_cudf_taxi_data.fillna(0)\n",
    "    fill_null_vals_cudf.stop()\n",
    "    \n",
    "    cudf_time = fill_null_vals_cudf.total_time\n",
    "    graph_data.append([\"fnv\", round(cudf_time, 3), \"cuDF\"])\n",
    "    \n",
    "    speedup = round(float(df_time) / float(cudf_time), 3)\n",
    "    cudf_barplot_data.append([\"fnv\", speedup])\n",
    "    print(\"Speedup (cuDF): \" + str(speedup) + \"X\")\n",
    "    "
   ]
  },
  {
   "cell_type": "markdown",
   "metadata": {},
   "source": [
    "## Inner Join on NYC Taxi Data (merge)"
   ]
  },
  {
   "cell_type": "code",
   "execution_count": 35,
   "metadata": {},
   "outputs": [],
   "source": [
    "def merge_data(df_data, cudf_data):\n",
    "    \n",
    "    rcid_to_meaning_df = pd.read_csv('rcid_to_meaning.csv')\n",
    "    rcid_to_meaning_cudf = cudf.read_csv('rcid_to_meaning.csv')\n",
    "        \n",
    "    rcid_to_meaning_df.columns = ['rate_code', 'Meaning']\n",
    "    rcid_to_meaning_cudf.columns = ['rate_code', 'Meaning']\n",
    "    \n",
    "    #rcid_to_meaning_df = rcid_to_meaning_df[]\n",
    "        \n",
    "    print(\"Inner Join (merge) - Pandas\")\n",
    "    df_merge_timer = Timer() \n",
    "    df_merge_timer.start()\n",
    "    new_data_df = df_data.merge(rcid_to_meaning_df, on=['rate_code'], how='inner')\n",
    "    df_merge_timer.stop()\n",
    "        \n",
    "    df_time = df_merge_timer.total_time \n",
    "    graph_data.append([\"merge\", round(df_time, 3), \"pandas\"])\n",
    "        \n",
    "    print(\"Inner Join (merge) - cuDF \")\n",
    "    cudf_merge_timer = Timer()\n",
    "    cudf_merge_timer.start()\n",
    "    new_data_cudf = cudf_data.merge(rcid_to_meaning_cudf, on=['rate_code'], how='inner')\n",
    "    cudf_merge_timer.stop()\n",
    "        \n",
    "    cudf_time = cudf_merge_timer.total_time \n",
    "    graph_data.append([\"merge\", round(cudf_time, 3), \"cuDF\"])\n",
    "        \n",
    "    speedup = round(float(df_time) / float(cudf_time), 3)\n",
    "    cudf_barplot_data.append([\"merge\", speedup])\n",
    "    print(\"Speedup (cuDF): \" + str(speedup) + \"X\")"
   ]
  },
  {
   "cell_type": "markdown",
   "metadata": {},
   "source": [
    "# Loading the Data For Benchmarking - Helper Functions (used later on)"
   ]
  },
  {
   "cell_type": "markdown",
   "metadata": {},
   "source": [
    "### Timer Class - Used for Benchmarking (Link at: https://realpython.com/python-timer/) "
   ]
  },
  {
   "cell_type": "code",
   "execution_count": 36,
   "metadata": {},
   "outputs": [],
   "source": [
    "import time\n",
    "\n",
    "class TimerError(Exception):\n",
    "    \"\"\"A custom exception used to report errors in use of Timer class\"\"\"\n",
    "\n",
    "class Timer:\n",
    "    total_time = 0\n",
    "    def __init__(self):\n",
    "        self._start_time = None\n",
    "\n",
    "    def start(self):\n",
    "        \"\"\"Start a new timer\"\"\"\n",
    "        if self._start_time is not None:\n",
    "            raise TimerError(f\"Timer is running. Use .stop() to stop it\")\n",
    "\n",
    "        self._start_time = time.perf_counter()\n",
    "\n",
    "    def stop(self):\n",
    "        \"\"\"Stop the timer, and report the elapsed time\"\"\"\n",
    "        if self._start_time is None:\n",
    "            raise TimerError(f\"Timer is not running. Use .start() to start it\")\n",
    "\n",
    "        elapsed_time = time.perf_counter() - self._start_time\n",
    "        Timer.total_time = elapsed_time\n",
    "        self._start_time = None\n",
    "        print(f\"Elapsed time: {elapsed_time:0.4f} seconds\")"
   ]
  },
  {
   "cell_type": "markdown",
   "metadata": {},
   "source": [
    "### Validate Arguments "
   ]
  },
  {
   "cell_type": "code",
   "execution_count": 37,
   "metadata": {},
   "outputs": [],
   "source": [
    "def validate_args(argmap):\n",
    "    \n",
    "    valid_operations = ['af', 'gb', 'gt5', 'dd', 'dc', 'fc', 'rtc', 'ld', 'all', 'cdf', 'fnv', 'aggfunc', 'merge']\n",
    "    check_operation = argmap['operation'] in valid_operations\n",
    "    \n",
    "    num_months = argmap['num_months']\n",
    "    \n",
    "    if check_operation:\n",
    "        if int(num_months) <= 36:\n",
    "            return True\n",
    "        else: \n",
    "            return \"Invalid Arguments Inputted. Refer to documentation, examples, and the files in the GCP Bucket for additional info\""
   ]
  },
  {
   "cell_type": "markdown",
   "metadata": {},
   "source": [
    "### Category (based on Number of Months) --> See if we need to pull 1,2, or 3 years of data"
   ]
  },
  {
   "cell_type": "code",
   "execution_count": 38,
   "metadata": {},
   "outputs": [],
   "source": [
    "def get_category(num_months):\n",
    "    \n",
    "    #Category 1 --> 1-12 Months\n",
    "    if num_months >= 1 and num_months <= 12:\n",
    "        return 1\n",
    "    \n",
    "    #Category 2 --> 13-24 Months\n",
    "    if num_months >= 13 and num_months <= 24:\n",
    "        return 2\n",
    "    \n",
    "    #Category 3 --> 25-36 Months\n",
    "    if num_months >= 25 and num_months <= 36:\n",
    "        return 3"
   ]
  },
  {
   "cell_type": "markdown",
   "metadata": {},
   "source": [
    "### Relabelling Columns (so month-to-month data can be merged)"
   ]
  },
  {
   "cell_type": "code",
   "execution_count": 39,
   "metadata": {},
   "outputs": [],
   "source": [
    "# Relabel column names (e.x. VendorID --> vendor_id) so that month-to-month data can be merged\n",
    "    \n",
    "def relabel_taxi_data(monthly_taxi_data):\n",
    "    monthly_taxi_data.columns = ['vendor_id', 'pickup_datetime', 'dropoff_datetime',\n",
    "       'passenger_count', 'trip_distance', 'pickup_longitude',\n",
    "       'pickup_latitude', 'rate_code', 'store_and_fwd_flag',\n",
    "       'dropoff_longitude', 'dropoff_latitude', 'payment_type',\n",
    "       'fare_amount', 'surcharge', 'mta_tax', 'tip_amount',\n",
    "       'tolls_amount', 'total_amount']\n",
    "    return monthly_taxi_data\n",
    "    \n",
    "# Relabel column names (e.x. VendorID --> vendor_id) so that month-to-month data can be merged\n",
    "def relabel_taxi_data_v2(monthly_taxi_data):\n",
    "    monthly_taxi_data = monthly_taxi_data.drop(columns=['improvement_surcharge'])\n",
    "    monthly_taxi_data.columns = ['vendor_id', 'pickup_datetime', 'dropoff_datetime',\n",
    "       'passenger_count', 'trip_distance', 'pickup_longitude',\n",
    "       'pickup_latitude', 'rate_code', 'store_and_fwd_flag',\n",
    "       'dropoff_longitude', 'dropoff_latitude', 'payment_type',\n",
    "       'fare_amount', 'surcharge', 'mta_tax', 'tip_amount',\n",
    "       'tolls_amount', 'total_amount']\n",
    "    return monthly_taxi_data"
   ]
  },
  {
   "cell_type": "markdown",
   "metadata": {},
   "source": [
    "### Loading Data from public GCP Bucket (using cudf)"
   ]
  },
  {
   "cell_type": "code",
   "execution_count": 40,
   "metadata": {},
   "outputs": [],
   "source": [
    "def load_data_cudf(argmap):\n",
    "    \n",
    "    num_months = int(argmap['num_months'])\n",
    "    operation = argmap['operation']\n",
    "    \n",
    "    category = get_category(num_months)\n",
    "    \n",
    "    datasets = []\n",
    "    \n",
    "\n",
    "    if category == 1:\n",
    "        for m in range(1, num_months + 1):\n",
    "            #Necessary because filepath for Jan - Sept ends in '2014-01.csv' but the filepath for Oct - Dec ends in '2014-11.csv'\n",
    "            if m >= 1 and m <= 9:\n",
    "                monthly_taxi_data = cudf.read_csv('gcs://anaconda-public-data/nyc-taxi/csv/2014/yellow' + '_tripdata_' + '2014-0' + str(m) + '.csv')\n",
    "                monthly_taxi_data = relabel_taxi_data(monthly_taxi_data)\n",
    "                datasets.append(monthly_taxi_data)\n",
    "            else:\n",
    "                monthly_taxi_data = cudf.read_csv('gcs://anaconda-public-data/nyc-taxi/csv/2014/yellow' + '_tripdata_' + '2014-' + str(m) + '.csv')\n",
    "                monthly_taxi_data = relabel_taxi_data(monthly_taxi_data)\n",
    "                datasets.append(monthly_taxi_data)\n",
    "                \n",
    "        '''If the user wants to benchmark concatenating data in pandas/cudf, then this returns the month-by-month data\n",
    "        Otherwise, the month-by-month data is combined together'''\n",
    "        if operation == 'cdf':\n",
    "            return datasets\n",
    "        else:\n",
    "            final_dataset = cudf.concat(datasets)\n",
    "            return final_dataset\n",
    "                \n",
    "    if category == 2:\n",
    "        \n",
    "        rem_mo = num_months - 12\n",
    "        \n",
    "        for m in range(1, 13):\n",
    "            if m >= 1 and m <= 9:\n",
    "                monthly_taxi_data = cudf.read_csv('gcs://anaconda-public-data/nyc-taxi/csv/2014/yellow' + '_tripdata_' + '2014-0' + str(m) + '.csv')\n",
    "                monthly_taxi_data = relabel_taxi_data(monthly_taxi_data)\n",
    "                datasets.append(monthly_taxi_data)\n",
    "            else:\n",
    "                monthly_taxi_data = cudf.read_csv('gcs://anaconda-public-data/nyc-taxi/csv/2014/yellow' + '_tripdata_' + '2014-' + str(m) + '.csv')\n",
    "                monthly_taxi_data = relabel_taxi_data(monthly_taxi_data)\n",
    "                datasets.append(monthly_taxi_data)\n",
    "                \n",
    "        for m in range(1, rem_mo + 1):\n",
    "            if m >= 1 and m <= 9:\n",
    "                monthly_taxi_data = cudf.read_csv('gcs://anaconda-public-data/nyc-taxi/csv/2015/yellow' + '_tripdata_' + '2015-0' + str(m) + '.csv')\n",
    "                monthly_taxi_data = relabel_taxi_data_v2(monthly_taxi_data)\n",
    "                datasets.append(monthly_taxi_data)\n",
    "            else:\n",
    "                monthly_taxi_data = cudf.read_csv('gcs://anaconda-public-data/nyc-taxi/csv/2015/yellow' + '_tripdata_' + '2015-' + str(m) + '.csv')\n",
    "                monthly_taxi_data = relabel_taxi_data_v2(monthly_taxi_data)\n",
    "                datasets.append(monthly_taxi_data)\n",
    "                \n",
    "        if operation == 'cdf':\n",
    "            return datasets\n",
    "        else:\n",
    "            final_dataset = cudf.concat(datasets)\n",
    "            return final_dataset\n",
    "                \n",
    "    if category == 3:\n",
    "        \n",
    "        rem_mo = num_months - 24\n",
    "        \n",
    "        for m in range(1, 13):\n",
    "            \n",
    "            if m >= 1 and m <= 9:\n",
    "                monthly_taxi_data = cudf.read_csv('gcs://anaconda-public-data/nyc-taxi/csv/2014/yellow' + '_tripdata_' + '2014-0' + str(m) + '.csv')\n",
    "                monthly_taxi_data_2015 = cudf.read_csv('gcs://anaconda-public-data/nyc-taxi/csv/2015/yellow' + '_tripdata_' + '2015-0' + str(m) + '.csv')\n",
    "                monthly_taxi_data = relabel_taxi_data(monthly_taxi_data)\n",
    "                monthly_taxi_data_2015 = relabel_taxi_data_v2(monthly_taxi_data_2015)\n",
    "                datasets.append(monthly_taxi_data)\n",
    "                datasets.append(monthly_taxi_data_2015)\n",
    "            else:\n",
    "                monthly_taxi_data = cudf.read_csv('gcs://anaconda-public-data/nyc-taxi/csv/2014/yellow' + '_tripdata_' + '2014-' + str(m) + '.csv')\n",
    "                monthly_taxi_data_2015 = cudf.read_csv('gcs://anaconda-public-data/nyc-taxi/csv/2015/yellow' + '_tripdata_' + '2015-' + str(m) + '.csv')\n",
    "                monthly_taxi_data = relabel_taxi_data(monthly_taxi_data)\n",
    "                monthly_taxi_data_2015 = relabel_taxi_data_v2(monthly_taxi_data_2015)\n",
    "                datasets.append(monthly_taxi_data)\n",
    "                datasets.append(monthly_taxi_data_2015)\n",
    "                \n",
    "        for m in range(1, rem_mo + 1):\n",
    "            \n",
    "            if m >= 1 and m <= 9:\n",
    "                monthly_taxi_data = cudf.read_csv('gcs://anaconda-public-data/nyc-taxi/csv/2016/yellow' + '_tripdata_' + '2016-0' + str(m) + '.csv')\n",
    "                monthly_taxi_data = relabel_taxi_data_v2(monthly_taxi_data_2015)\n",
    "                datasets.append(monthly_taxi_data)\n",
    "            else:\n",
    "                monthly_taxi_data = cudf.read_csv('gcs://anaconda-public-data/nyc-taxi/csv/2016/yellow' + '_tripdata_' + '2016-' + str(m) + '.csv')\n",
    "                monthly_taxi_data = relabel_taxi_data_v2(monthly_taxi_data_2015)\n",
    "                datasets.append(monthly_taxi_data)\n",
    "                \n",
    "        if operation == 'cdf':\n",
    "            return datasets\n",
    "        else:\n",
    "            final_dataset = cudf.concat(datasets)\n",
    "            return final_dataset\n",
    "        "
   ]
  },
  {
   "cell_type": "markdown",
   "metadata": {},
   "source": [
    "### Loading Data from Public GCP Bucket (using pandas)"
   ]
  },
  {
   "cell_type": "code",
   "execution_count": 41,
   "metadata": {},
   "outputs": [],
   "source": [
    "def load_data_df(argmap):\n",
    "    \n",
    "    num_months = int(argmap['num_months'])\n",
    "    operation = argmap['operation']\n",
    "    \n",
    "    category = get_category(num_months)\n",
    "    \n",
    "    datasets = []\n",
    "    \n",
    "\n",
    "    if category == 1:\n",
    "        for m in range(1, num_months + 1):\n",
    "            if m >= 1 and m <= 9:\n",
    "                monthly_taxi_data = pd.read_csv('gcs://anaconda-public-data/nyc-taxi/csv/2014/yellow' + '_tripdata_' + '2014-0' + str(m) + '.csv')\n",
    "                monthly_taxi_data = relabel_taxi_data(monthly_taxi_data)\n",
    "                datasets.append(monthly_taxi_data)\n",
    "            else:\n",
    "                monthly_taxi_data = pd.read_csv('gcs://anaconda-public-data/nyc-taxi/csv/2014/yellow' + '_tripdata_' + '2014-' + str(m) + '.csv')\n",
    "                monthly_taxi_data = relabel_taxi_data(monthly_taxi_data)\n",
    "                datasets.append(monthly_taxi_data)\n",
    "        \n",
    "        if operation == 'cdf':\n",
    "            return datasets\n",
    "        else:\n",
    "            final_dataset = pd.concat(datasets)\n",
    "            return final_dataset\n",
    "                \n",
    "    if category == 2:\n",
    "        \n",
    "        rem_mo = num_months - 12\n",
    "        \n",
    "        for m in range(1, 13):\n",
    "            if m >= 1 and m <= 9:\n",
    "                monthly_taxi_data = pd.read_csv('gcs://anaconda-public-data/nyc-taxi/csv/2014/yellow' + '_tripdata_' + '2014-0' + str(m) + '.csv')\n",
    "                monthly_taxi_data = relabel_taxi_data(monthly_taxi_data)\n",
    "                datasets.append(monthly_taxi_data)\n",
    "            else:\n",
    "                monthly_taxi_data = pd.read_csv('gcs://anaconda-public-data/nyc-taxi/csv/2014/yellow' + '_tripdata_' + '2014-' + str(m) + '.csv')\n",
    "                monthly_taxi_data = relabel_taxi_data(monthly_taxi_data)\n",
    "                datasets.append(monthly_taxi_data)\n",
    "                \n",
    "        for m in range(1, rem_mo + 1):\n",
    "            if m >= 1 and m <= 9:\n",
    "                monthly_taxi_data = pd.read_csv('gcs://anaconda-public-data/nyc-taxi/csv/2015/yellow' + '_tripdata_' + '2015-0' + str(m) + '.csv')\n",
    "                monthly_taxi_data = relabel_taxi_data_v2(monthly_taxi_data)\n",
    "                datasets.append(monthly_taxi_data)\n",
    "            else:\n",
    "                monthly_taxi_data = pd.read_csv('gcs://anaconda-public-data/nyc-taxi/csv/2015/yellow' + '_tripdata_' + '2015-' + str(m) + '.csv')\n",
    "                monthly_taxi_data = relabel_taxi_data_v2(monthly_taxi_data)\n",
    "                datasets.append(monthly_taxi_data)\n",
    "                \n",
    "        if operation == 'cdf':\n",
    "            return datasets\n",
    "        else:\n",
    "            final_dataset = pd.concat(datasets)\n",
    "            return final_dataset\n",
    "                \n",
    "    if category == 3:\n",
    "        \n",
    "        rem_mo = num_months - 24\n",
    "        \n",
    "        for m in range(1, 13):\n",
    "            \n",
    "            if m >= 1 and m <= 9:\n",
    "                monthly_taxi_data = pd.read_csv('gcs://anaconda-public-data/nyc-taxi/csv/2014/yellow' + '_tripdata_' + '2014-0' + str(m) + '.csv')\n",
    "                monthly_taxi_data_2015 = pd.read_csv('gcs://anaconda-public-data/nyc-taxi/csv/2015/yellow' + '_tripdata_' + '2015-0' + str(m) + '.csv')\n",
    "                monthly_taxi_data = relabel_taxi_data(monthly_taxi_data)\n",
    "                monthly_taxi_data_2015 = relabel_taxi_data_v2(monthly_taxi_data_2015)\n",
    "                datasets.append(monthly_taxi_data)\n",
    "                datasets.append(monthly_taxi_data_2015)\n",
    "            else:\n",
    "                monthly_taxi_data = pd.read_csv('gcs://anaconda-public-data/nyc-taxi/csv/2014/yellow' + '_tripdata_' + '2014-' + str(m) + '.csv')\n",
    "                monthly_taxi_data_2015 = pd.read_csv('gcs://anaconda-public-data/nyc-taxi/csv/2015/yellow' + '_tripdata_' + '2015-' + str(m) + '.csv')\n",
    "                monthly_taxi_data = relabel_taxi_data(monthly_taxi_data)\n",
    "                monthly_taxi_data_2015 = relabel_taxi_data_v2(monthly_taxi_data_2015)\n",
    "                datasets.append(monthly_taxi_data)\n",
    "                datasets.append(monthly_taxi_data_2015)\n",
    "                \n",
    "        for m in range(1, rem_mo + 1):\n",
    "            \n",
    "            if m >= 1 and m <= 9:\n",
    "                monthly_taxi_data = pd.read_csv('gcs://anaconda-public-data/nyc-taxi/csv/2016/yellow' + '_tripdata_' + '2016-0' + str(m) + '.csv')\n",
    "                monthly_taxi_data = relabel_taxi_data_v2(monthly_taxi_data_2015)\n",
    "                datasets.append(monthly_taxi_data)\n",
    "            else:\n",
    "                monthly_taxi_data = pd.read_csv('gcs://anaconda-public-data/nyc-taxi/csv/2016/yellow' + '_tripdata_' + '2016-' + str(m) + '.csv')\n",
    "                monthly_taxi_data = relabel_taxi_data_v2(monthly_taxi_data_2015)\n",
    "                datasets.append(monthly_taxi_data)\n",
    "                \n",
    "        if operation == 'cdf':\n",
    "            return datasets\n",
    "        else:\n",
    "            final_dataset = pd.concat(datasets)\n",
    "            return final_dataset\n"
   ]
  },
  {
   "cell_type": "markdown",
   "metadata": {},
   "source": [
    "# Running the Benchmarking Tool"
   ]
  },
  {
   "cell_type": "markdown",
   "metadata": {},
   "source": [
    "#### Enter the desired number of months and the operation you want to benchmark against in the cell below!\n",
    "#### Parameters: The valid number of months can be anywhere from 1 to 36. The operations have shorthand notations, and the operation corresponding to each notation is in the table below:\n",
    "\n",
    "| Notation | Description |\n",
    "|------|------|\n",
    "| af | Apply numerical function on a column  |\n",
    "| aggfunc  | Apply aggregate function on a column |\n",
    "| gb | Group by category + Apply Aggregate function |\n",
    "| gt5 | Sort rows based on column value |\n",
    "| dd  | Drop duplicate rows |\n",
    "| dc | Drop column from DataFrame  |\n",
    "| fc | Filter rows from DataFrame ( by column value ) |\n",
    "| ld | Load data into DataFrame |\n",
    "| rtc  | Rewrite DataFrame to .csv file |\n",
    "| cdf | Concatenate DataFrames together |\n",
    "| fnv  | Fill null (missing) values in DataFrame |\n",
    "| merge | Perform an inner join on two DataFrames |\n",
    "| all | Perform all operations above (w/ the exception of cdf) |"
   ]
  },
  {
   "cell_type": "markdown",
   "metadata": {},
   "source": [
    "## NOTE: Enter your desired arguments (number of months / operation) here. The benchmarking tool will run from this cell onward!"
   ]
  },
  {
   "cell_type": "code",
   "execution_count": 42,
   "metadata": {},
   "outputs": [],
   "source": [
    "#Enter your parameters here!\n",
    "\n",
    "num_months = 1\n",
    "operation = 'all'"
   ]
  },
  {
   "cell_type": "code",
   "execution_count": 43,
   "metadata": {},
   "outputs": [
    {
     "name": "stdout",
     "output_type": "stream",
     "text": [
      "Validated Arguments Successfully\n",
      "Loading data through cudf ...\n",
      "Elapsed time: 27.6527 seconds\n",
      "Loading data through pandas ...\n",
      "Elapsed time: 134.3942 seconds\n",
      "Data Loading Speedup (cuDF): 4.86X\n",
      "Pandas: Applying a numerical function (converting mi to km):\n",
      "Elapsed time: 2.3609 seconds\n",
      "CuDF: Applying a numerical function (converting mi to km):\n",
      "Elapsed time: 0.4120 seconds\n",
      "Speedup: 5.73X\n",
      "Pandas: Applying an aggregate function:\n",
      "Elapsed time: 0.0596 seconds\n",
      "CuDF: Applying an aggregate function:\n",
      "Elapsed time: 0.0009 seconds\n",
      "Speedup (cuDF): 66.247X\n",
      "Pandas: GroupBy:\n",
      "Elapsed time: 3.2360 seconds\n",
      "CuDF: GroupBy: \n",
      "Elapsed time: 0.0462 seconds\n",
      "Speedup: 69.971X\n",
      "Get Top 5 Longest Trip Distances (Sorting values) w/ Pandas\n",
      "Elapsed time: 8.9344 seconds\n",
      "Get Top 5 Longest Trip Distances (Sorting Values) w/ cuDF\n",
      "Elapsed time: 0.3004 seconds\n",
      "Speedup: 29.744X\n",
      "Dropping Duplicates - Pandas\n",
      "Elapsed time: 24.4882 seconds\n",
      "Dropping Duplicates - cuDF\n",
      "Elapsed time: 1.0702 seconds\n",
      "Speedup: 22.881X\n",
      "Drop a column: Pandas\n",
      "Elapsed time: 0.7611 seconds\n",
      "Drop a column: cuDF\n",
      "Elapsed time: 0.0485 seconds\n",
      "Speedup: 15.698X\n",
      "Filter by Column Values - pandas\n",
      "Elapsed time: 0.3774 seconds\n",
      "Filter by Column Values - cuDF\n",
      "Elapsed time: 0.0333 seconds\n",
      "Speedup (cuDF): 11.341X\n",
      "Rewriting to .csv - Pandas\n",
      "Elapsed time: 145.6403 seconds\n",
      "Rewriting to .csv - cuDF\n",
      "Elapsed time: 6.2796 seconds\n",
      "Speedup: 23.193X\n",
      "Filling in null values - Pandas\n",
      "Elapsed time: 4.6759 seconds\n",
      "Filling in null values - cuDF\n",
      "Elapsed time: 0.1049 seconds\n",
      "Speedup (cuDF): 44.595X\n",
      "Inner Join (merge) - Pandas\n",
      "Elapsed time: 5.9695 seconds\n",
      "Inner Join (merge) - cuDF \n",
      "Elapsed time: 0.0502 seconds\n",
      "Speedup (cuDF): 119.01X\n",
      "[['ld', 134.394, 'pandas'], ['ld', 27.653, 'cuDF'], ['af', 2.361, 'pandas'], ['af', 0.412, 'cuDF'], ['aggfunc', 0.06, 'pandas'], ['aggfunc', 0.001, 'cuDF'], ['gb', 3.236, 'pandas'], ['gb', 0.046, 'cuDF'], ['gt5', 8.934, 'pandas'], ['gt5', 0.3, 'cuDF'], ['dd', 24.488, 'pandas'], ['dd', 1.07, 'cuDF'], ['dc', 0.761, 'pandas'], ['dc', 0.048, 'cuDF'], ['fc', 0.377, 'pandas'], ['fc', 0.033, 'cuDF'], ['rtc', 145.64, 'pandas'], ['rtc', 6.28, 'cuDF'], ['fnv', 4.676, 'pandas'], ['fnv', 0.105, 'cuDF'], ['merge', 5.969, 'pandas'], ['merge', 0.05, 'cuDF']]\n"
     ]
    }
   ],
   "source": [
    "argmap = {}\n",
    "argmap['operation'] = operation\n",
    "argmap['num_months'] = num_months\n",
    "\n",
    "\n",
    "valid_args = validate_args(argmap)\n",
    "\n",
    "if valid_args == True: \n",
    "    \n",
    "    print(\"Validated Arguments Successfully\")\n",
    "        \n",
    "    #Adding timer for loading data -cudf\n",
    "    print(\"Loading data through cudf ...\")\n",
    "        \n",
    "    load_cudf_data_timer = Timer()\n",
    "    load_cudf_data_timer.start()\n",
    "    cudf_data = load_data_cudf(argmap)\n",
    "    load_cudf_data_timer.stop()\n",
    "        \n",
    "    cudf_time = load_cudf_data_timer.total_time \n",
    "    \n",
    "    #graph_data.append([\"ld\", round(cudf_time, 3), \"cuDF\"])\n",
    "        \n",
    "    #Adding timer for loading data - pandas \n",
    "    print(\"Loading data through pandas ...\")\n",
    "        \n",
    "    load_df_data_timer = Timer()\n",
    "    load_df_data_timer.start()\n",
    "    df_data = load_data_df(argmap)\n",
    "    load_df_data_timer.stop()\n",
    "        \n",
    "    df_time = load_df_data_timer.total_time\n",
    "    \n",
    "    graph_data.append([\"ld\", round(df_time, 3), \"pandas\"])\n",
    "    graph_data.append([\"ld\", round(cudf_time, 3), \"cuDF\"])\n",
    "    \n",
    "    speedup = round(float(df_time) / float(cudf_time), 3)\n",
    "    cudf_barplot_data.append([\"ld\", speedup])\n",
    "    print(\"Data Loading Speedup (cuDF): \" + str(speedup) + \"X\")\n",
    "        \n",
    "    if operation == 'af':\n",
    "        apply_numerical_function(df_data, cudf_data)\n",
    "    if operation == 'aggfunc':\n",
    "        apply_aggregate_function(df_data, cudf_data)\n",
    "    if operation == 'gb':\n",
    "        groupby(df_data, cudf_data)\n",
    "    if operation == 'gt5': #uses sort_values()\n",
    "        get_top_5(df_data, cudf_data)\n",
    "    if operation == 'dd':\n",
    "        drop_duplicates(df_data, cudf_data)\n",
    "    if operation == 'dc':\n",
    "        drop_column(df_data, cudf_data)\n",
    "    if operation == 'fc':\n",
    "        filter_by_column(df_data, cudf_data)\n",
    "    if operation == 'rtc':\n",
    "        rewrite_to_csv(df_data, cudf_data)\n",
    "    if operation == 'cdf':\n",
    "        concatenate_dataframes(df_data, cudf_data)\n",
    "    if operation == 'fnv':\n",
    "        fill_null_values(df_data, cudf_data)\n",
    "    if operation == 'merge':\n",
    "        merge_data(df_data, cudf_data)\n",
    "    if operation == 'all':\n",
    "        apply_numerical_function(df_data, cudf_data)\n",
    "        apply_aggregate_function(df_data, cudf_data)\n",
    "        groupby(df_data, cudf_data)\n",
    "        get_top_5(df_data, cudf_data)\n",
    "        drop_duplicates(df_data, cudf_data)\n",
    "        drop_column(df_data, cudf_data)\n",
    "        filter_by_column(df_data, cudf_data)\n",
    "        rewrite_to_csv(df_data, cudf_data)\n",
    "        fill_null_values(df_data, cudf_data)\n",
    "        merge_data(df_data, cudf_data)\n",
    "        #concatenate_dataframes(df_data, cudf_data)\n",
    "        \n"
   ]
  },
  {
   "cell_type": "markdown",
   "metadata": {},
   "source": [
    "# Visualizations of Benchmarking Results "
   ]
  },
  {
   "cell_type": "markdown",
   "metadata": {},
   "source": [
    "## Pandas/cuDF Operation vs. Time - Part I (less intensive DataFrame operations)"
   ]
  },
  {
   "cell_type": "code",
   "execution_count": 45,
   "metadata": {},
   "outputs": [
    {
     "data": {
      "text/plain": [
       "Text(0.5, 1.0, 'Pandas/cuDF operation vs. Time - Part I')"
      ]
     },
     "execution_count": 45,
     "metadata": {},
     "output_type": "execute_result"
    },
    {
     "data": {
      "image/png": "[encoded data removed]",
      "text/plain": [
       "<Figure size 432x288 with 1 Axes>"
      ]
     },
     "metadata": {
      "needs_background": "light"
     },
     "output_type": "display_data"
    }
   ],
   "source": [
    "perf_data = pd.DataFrame(np.array(graph_data), columns=['operation', 'time (in s)', 'library'])\n",
    "perf_data['time (in s)'] = perf_data['time (in s)'].astype(float)\n",
    "perf_data_p2 = perf_data[perf_data['operation'].isin([\"af\", \"aggfunc\", \"gb\", \"dc\", \"fc\", \"fnv\", \"merge\"])]\n",
    "library = perf_data_p2['library']\n",
    "colors = ['green' if l == 'cuDF' else 'grey' for l in library]\n",
    "sns.barplot(x='operation', y='time (in s)', hue='library', data=perf_data_p2, palette=colors, ci=None)\n",
    "plt.title(\"Pandas/cuDF operation vs. Time - Part I\")"
   ]
  },
  {
   "cell_type": "markdown",
   "metadata": {},
   "source": [
    "## Pandas/cuDF Operation vs. Time - Part II (more intensive DataFrame operations)"
   ]
  },
  {
   "cell_type": "code",
   "execution_count": 46,
   "metadata": {},
   "outputs": [
    {
     "data": {
      "text/plain": [
       "Text(0.5, 1.0, 'Pandas/cuDF operation vs. Time - Part II')"
      ]
     },
     "execution_count": 46,
     "metadata": {},
     "output_type": "execute_result"
    },
    {
     "data": {
      "image/png": "[encoded data removed]",
      "text/plain": [
       "<Figure size 432x288 with 1 Axes>"
      ]
     },
     "metadata": {
      "needs_background": "light"
     },
     "output_type": "display_data"
    }
   ],
   "source": [
    "#[\"ld\", \"rtc\", \"dd\", \"gt5\"] --> more intensive\n",
    "#[\"af\", \"aggfunc\", \"gb\", \"dc\", \"fc\", \"fnv\", \"merge\"] --> less intensive \n",
    "\n",
    "perf_data = pd.DataFrame(np.array(graph_data), columns=['operation', 'time (in s)', 'library'])\n",
    "perf_data['time (in s)'] = perf_data['time (in s)'].astype(float)\n",
    "perf_data_p1 = perf_data[perf_data['operation'].isin([\"ld\", \"rtc\", \"dd\", \"gt5\"])]\n",
    "library = perf_data_p1['library']\n",
    "colors = ['green' if l == 'cuDF' else 'grey' for l in library]\n",
    "sns.barplot(x='operation', y='time (in s)', hue='library', data=perf_data_p1, palette=colors, ci=None)\n",
    "plt.title(\"Pandas/cuDF operation vs. Time - Part II\")"
   ]
  },
  {
   "cell_type": "markdown",
   "metadata": {},
   "source": [
    "## Operation vs. cuDF Speedup (compared to pandas)"
   ]
  },
  {
   "cell_type": "code",
   "execution_count": 47,
   "metadata": {},
   "outputs": [
    {
     "data": {
      "image/png": "[encoded data removed]",
      "text/plain": [
       "<Figure size 432x288 with 1 Axes>"
      ]
     },
     "metadata": {
      "needs_background": "light"
     },
     "output_type": "display_data"
    }
   ],
   "source": [
    "cudf_barplot_data\n",
    "speedups_df = pd.DataFrame(np.array(cudf_barplot_data), columns=['operation', 'speedups (X times faster than pandas)'])\n",
    "speedups_df['speedups (X times faster than pandas)'] = speedups_df['speedups (X times faster than pandas)'].astype(float)\n",
    "colors = ['green' for index, row in speedups_df.iterrows()]\n",
    "sns.barplot(x='operation', y='speedups (X times faster than pandas)', data=speedups_df, palette=colors, ci=None)\n",
    "if num_months == 1:\n",
    "    plt.title(\"cuDF Speedup vs. Pandas  - 1 Month Taxi Data\")\n",
    "else:\n",
    "    plt.title(\"cuDF Speedup vs. Pandas - \" + str(num_months) + \" Months Taxi Data\")\n"
   ]
  }
 ],
 "metadata": {
  "kernelspec": {
   "display_name": "Python 3",
   "language": "python",
   "name": "python3"
  },
  "language_info": {
   "codemirror_mode": {
    "name": "ipython",
    "version": 3
   },
   "file_extension": ".py",
   "mimetype": "text/x-python",
   "name": "python",
   "nbconvert_exporter": "python",
   "pygments_lexer": "ipython3",
   "version": "3.7.6"
  }
 },
 "nbformat": 4,
 "nbformat_minor": 4
}
